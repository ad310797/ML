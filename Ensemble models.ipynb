{
 "cells": [
  {
   "cell_type": "code",
   "execution_count": 1,
   "metadata": {},
   "outputs": [
    {
     "data": {
      "text/plain": [
       "0.8888888888888888"
      ]
     },
     "execution_count": 1,
     "metadata": {},
     "output_type": "execute_result"
    }
   ],
   "source": [
    "import numpy as pd\n",
    "import pandas as df\n",
    "from sklearn import model_selection\n",
    "from sklearn.ensemble import BaggingClassifier\n",
    "from sklearn.tree import DecisionTreeClassifier\n",
    "from sklearn.ensemble import RandomForestClassifier\n",
    "from sklearn import metrics\n",
    "from sklearn import datasets\n",
    "from sklearn.metrics import classification_report\n",
    "from sklearn.metrics import confusion_matrix\n",
    "from sklearn.linear_model import LogisticRegression\n",
    "from sklearn.ensemble import GradientBoostingClassifier\n",
    "from sklearn.svm import SVC\n",
    "from sklearn.ensemble import VotingClassifier\n",
    "from sklearn.model_selection import train_test_split\n",
    "\n",
    "digit=datasets.load_wine()\n",
    "p=digit.data\n",
    "q=digit.target\n",
    "p_train,p_test,q_train,q_test = train_test_split(p,q,test_size=0.3)\n",
    "m1=DecisionTreeClassifier()\n",
    "#m1.fit(p_train,q_train)\n",
    "esti1=BaggingClassifier(base_estimator=m1)\n",
    "esti1.fit(p_train,q_train)\n",
    "pred1=esti1.predict(p_test)\n",
    "metrics.accuracy_score(q_test,pred1)"
   ]
  },
  {
   "cell_type": "code",
   "execution_count": 2,
   "metadata": {},
   "outputs": [
    {
     "name": "stdout",
     "output_type": "stream",
     "text": [
      "             precision    recall  f1-score   support\n",
      "\n",
      "          0       0.87      0.93      0.90        14\n",
      "          1       0.87      0.87      0.87        23\n",
      "          2       0.94      0.88      0.91        17\n",
      "\n",
      "avg / total       0.89      0.89      0.89        54\n",
      "\n"
     ]
    }
   ],
   "source": [
    "print(metrics.classification_report(q_test,pred1))"
   ]
  },
  {
   "cell_type": "code",
   "execution_count": 3,
   "metadata": {},
   "outputs": [
    {
     "name": "stdout",
     "output_type": "stream",
     "text": [
      "[[13  1  0]\n",
      " [ 2 20  1]\n",
      " [ 0  2 15]]\n"
     ]
    }
   ],
   "source": [
    "print(metrics.confusion_matrix(q_test,pred1))"
   ]
  },
  {
   "cell_type": "code",
   "execution_count": 4,
   "metadata": {},
   "outputs": [
    {
     "data": {
      "text/plain": [
       "98.14814814814815"
      ]
     },
     "execution_count": 4,
     "metadata": {},
     "output_type": "execute_result"
    }
   ],
   "source": [
    "esti2=RandomForestClassifier(n_estimators=100)\n",
    "esti2.fit(p_train,q_train)\n",
    "pred2=esti2.predict(p_test)\n",
    "metrics.accuracy_score(q_test,pred2)*100"
   ]
  },
  {
   "cell_type": "code",
   "execution_count": 5,
   "metadata": {},
   "outputs": [
    {
     "name": "stdout",
     "output_type": "stream",
     "text": [
      "             precision    recall  f1-score   support\n",
      "\n",
      "          0       0.93      1.00      0.97        14\n",
      "          1       1.00      0.96      0.98        23\n",
      "          2       1.00      1.00      1.00        17\n",
      "\n",
      "avg / total       0.98      0.98      0.98        54\n",
      "\n"
     ]
    }
   ],
   "source": [
    "print(metrics.classification_report(q_test,pred2))"
   ]
  },
  {
   "cell_type": "code",
   "execution_count": 6,
   "metadata": {},
   "outputs": [
    {
     "name": "stdout",
     "output_type": "stream",
     "text": [
      "[[14  0  0]\n",
      " [ 1 22  0]\n",
      " [ 0  0 17]]\n"
     ]
    }
   ],
   "source": [
    "print(metrics.confusion_matrix(q_test,pred2))"
   ]
  },
  {
   "cell_type": "code",
   "execution_count": 7,
   "metadata": {},
   "outputs": [
    {
     "data": {
      "text/plain": [
       "94.44444444444444"
      ]
     },
     "execution_count": 7,
     "metadata": {},
     "output_type": "execute_result"
    }
   ],
   "source": [
    "esti3=GradientBoostingClassifier(n_estimators=100)\n",
    "esti3.fit(p_train,q_train)\n",
    "pred3=esti3.predict(p_test)\n",
    "metrics.accuracy_score(q_test,pred3)*100"
   ]
  },
  {
   "cell_type": "code",
   "execution_count": 8,
   "metadata": {},
   "outputs": [
    {
     "name": "stdout",
     "output_type": "stream",
     "text": [
      "             precision    recall  f1-score   support\n",
      "\n",
      "          0       0.93      0.93      0.93        14\n",
      "          1       0.92      0.96      0.94        23\n",
      "          2       1.00      0.94      0.97        17\n",
      "\n",
      "avg / total       0.95      0.94      0.94        54\n",
      "\n"
     ]
    }
   ],
   "source": [
    "print(metrics.classification_report(q_test,pred3))"
   ]
  },
  {
   "cell_type": "code",
   "execution_count": 9,
   "metadata": {},
   "outputs": [
    {
     "name": "stderr",
     "output_type": "stream",
     "text": [
      "C:\\Users\\hp\\Anaconda3\\lib\\site-packages\\sklearn\\preprocessing\\label.py:151: DeprecationWarning: The truth value of an empty array is ambiguous. Returning False, but in future this will result in an error. Use `array.size > 0` to check that an array is not empty.\n",
      "  if diff:\n"
     ]
    },
    {
     "data": {
      "text/plain": [
       "1.0"
      ]
     },
     "execution_count": 9,
     "metadata": {},
     "output_type": "execute_result"
    }
   ],
   "source": [
    "arr=[]\n",
    "model1=LogisticRegression()\n",
    "arr.append((\"Logistic\",model1))\n",
    "model2=DecisionTreeClassifier()\n",
    "arr.append((\"Cart\",model2))\n",
    "model3=SVC()\n",
    "arr.append((\"SVM\",model3))\n",
    "model=VotingClassifier(arr).fit(p_test,q_test)\n",
    "pred=model.predict(p_test)\n",
    "metrics.accuracy_score(q_test,pred)"
   ]
  },
  {
   "cell_type": "code",
   "execution_count": 10,
   "metadata": {},
   "outputs": [
    {
     "name": "stdout",
     "output_type": "stream",
     "text": [
      "             precision    recall  f1-score   support\n",
      "\n",
      "          0       1.00      1.00      1.00        14\n",
      "          1       1.00      1.00      1.00        23\n",
      "          2       1.00      1.00      1.00        17\n",
      "\n",
      "avg / total       1.00      1.00      1.00        54\n",
      "\n"
     ]
    }
   ],
   "source": [
    "print(metrics.classification_report(q_test,pred))"
   ]
  },
  {
   "cell_type": "code",
   "execution_count": 11,
   "metadata": {},
   "outputs": [
    {
     "name": "stdout",
     "output_type": "stream",
     "text": [
      "[[14  0  0]\n",
      " [ 0 23  0]\n",
      " [ 0  0 17]]\n"
     ]
    }
   ],
   "source": [
    "print(metrics.confusion_matrix(q_test,pred))"
   ]
  }
 ],
 "metadata": {
  "kernelspec": {
   "display_name": "Python 3",
   "language": "python",
   "name": "python3"
  },
  "language_info": {
   "codemirror_mode": {
    "name": "ipython",
    "version": 3
   },
   "file_extension": ".py",
   "mimetype": "text/x-python",
   "name": "python",
   "nbconvert_exporter": "python",
   "pygments_lexer": "ipython3",
   "version": "3.6.5"
  }
 },
 "nbformat": 4,
 "nbformat_minor": 2
}
