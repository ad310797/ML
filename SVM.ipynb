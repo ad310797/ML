{
 "cells": [
  {
   "cell_type": "code",
   "execution_count": 1,
   "metadata": {},
   "outputs": [
    {
     "data": {
      "text/plain": [
       "((1078, 64), (719, 64))"
      ]
     },
     "execution_count": 1,
     "metadata": {},
     "output_type": "execute_result"
    }
   ],
   "source": [
    "import numpy as np\n",
    "import matplotlib.pyplot as plt\n",
    "from sklearn.svm import SVC\n",
    "from sklearn import datasets\n",
    "from sklearn import metrics\n",
    "from sklearn.model_selection import train_test_split\n",
    "\n",
    "digit=datasets.load_digits()\n",
    "p=digit.data\n",
    "q=digit.target\n",
    "p_train,p_test,q_train,q_test = train_test_split(p,q,test_size=0.4)\n",
    "p_train.shape , p_test.shape"
   ]
  },
  {
   "cell_type": "code",
   "execution_count": 2,
   "metadata": {},
   "outputs": [
    {
     "data": {
      "text/plain": [
       "SVC(C=1.0, cache_size=200, class_weight=None, coef0=0.0,\n",
       "  decision_function_shape='ovr', degree=3, gamma='auto', kernel='linear',\n",
       "  max_iter=-1, probability=False, random_state=None, shrinking=True,\n",
       "  tol=0.001, verbose=False)"
      ]
     },
     "execution_count": 2,
     "metadata": {},
     "output_type": "execute_result"
    }
   ],
   "source": [
    "m=SVC(kernel=\"linear\")\n",
    "m.fit(p_train,q_train)"
   ]
  },
  {
   "cell_type": "code",
   "execution_count": 3,
   "metadata": {},
   "outputs": [
    {
     "data": {
      "text/plain": [
       "0.9777468706536857"
      ]
     },
     "execution_count": 3,
     "metadata": {},
     "output_type": "execute_result"
    }
   ],
   "source": [
    "pred=m.predict(p_test)\n",
    "metrics.accuracy_score(q_test,pred)"
   ]
  },
  {
   "cell_type": "code",
   "execution_count": 4,
   "metadata": {},
   "outputs": [
    {
     "name": "stdout",
     "output_type": "stream",
     "text": [
      "[[75  0  0  0  0  0  0  0  0  0]\n",
      " [ 0 70  0  0  0  0  0  0  2  0]\n",
      " [ 0  0 72  0  0  0  0  0  0  0]\n",
      " [ 0  0  0 71  0  0  0  0  0  1]\n",
      " [ 0  0  0  0 79  0  0  0  0  0]\n",
      " [ 0  0  0  0  0 75  0  0  0  1]\n",
      " [ 0  0  0  0  0  1 66  0  0  0]\n",
      " [ 0  0  0  0  2  0  0 70  0  0]\n",
      " [ 0  1  0  3  0  0  0  1 56  0]\n",
      " [ 0  0  0  0  0  2  0  1  1 69]]\n"
     ]
    }
   ],
   "source": [
    "print(metrics.confusion_matrix(q_test,pred)) "
   ]
  },
  {
   "cell_type": "code",
   "execution_count": 5,
   "metadata": {},
   "outputs": [
    {
     "name": "stdout",
     "output_type": "stream",
     "text": [
      "             precision    recall  f1-score   support\n",
      "\n",
      "          0       1.00      1.00      1.00        75\n",
      "          1       0.99      0.97      0.98        72\n",
      "          2       1.00      1.00      1.00        72\n",
      "          3       0.96      0.99      0.97        72\n",
      "          4       0.98      1.00      0.99        79\n",
      "          5       0.96      0.99      0.97        76\n",
      "          6       1.00      0.99      0.99        67\n",
      "          7       0.97      0.97      0.97        72\n",
      "          8       0.95      0.92      0.93        61\n",
      "          9       0.97      0.95      0.96        73\n",
      "\n",
      "avg / total       0.98      0.98      0.98       719\n",
      "\n"
     ]
    }
   ],
   "source": [
    "print(metrics.classification_report(q_test,pred)) "
   ]
  },
  {
   "cell_type": "code",
   "execution_count": 6,
   "metadata": {},
   "outputs": [
    {
     "data": {
      "text/plain": [
       "SVC(C=1.0, cache_size=200, class_weight=None, coef0=0.0,\n",
       "  decision_function_shape='ovr', degree=3, gamma='auto', kernel='poly',\n",
       "  max_iter=-1, probability=False, random_state=None, shrinking=True,\n",
       "  tol=0.001, verbose=False)"
      ]
     },
     "execution_count": 6,
     "metadata": {},
     "output_type": "execute_result"
    }
   ],
   "source": [
    "m2=SVC(kernel=\"poly\")\n",
    "m2.fit(p_train,q_train)"
   ]
  },
  {
   "cell_type": "code",
   "execution_count": 7,
   "metadata": {},
   "outputs": [
    {
     "data": {
      "text/plain": [
       "99.30458970792768"
      ]
     },
     "execution_count": 7,
     "metadata": {},
     "output_type": "execute_result"
    }
   ],
   "source": [
    "pred2=m2.predict(p_test)\n",
    "metrics.accuracy_score(q_test,pred2)*100"
   ]
  },
  {
   "cell_type": "code",
   "execution_count": 8,
   "metadata": {},
   "outputs": [
    {
     "name": "stdout",
     "output_type": "stream",
     "text": [
      "[[75  0  0  0  0  0  0  0  0  0]\n",
      " [ 0 72  0  0  0  0  0  0  0  0]\n",
      " [ 0  0 72  0  0  0  0  0  0  0]\n",
      " [ 0  0  0 72  0  0  0  0  0  0]\n",
      " [ 0  0  0  0 79  0  0  0  0  0]\n",
      " [ 0  0  0  0  0 75  0  0  0  1]\n",
      " [ 0  0  0  0  0  0 67  0  0  0]\n",
      " [ 0  0  0  0  0  0  0 72  0  0]\n",
      " [ 0  0  0  1  0  0  0  1 59  0]\n",
      " [ 0  0  0  0  0  1  0  1  0 71]]\n"
     ]
    }
   ],
   "source": [
    "print(metrics.confusion_matrix(q_test,pred2)) "
   ]
  },
  {
   "cell_type": "code",
   "execution_count": 9,
   "metadata": {},
   "outputs": [
    {
     "name": "stdout",
     "output_type": "stream",
     "text": [
      "             precision    recall  f1-score   support\n",
      "\n",
      "          0       1.00      1.00      1.00        75\n",
      "          1       1.00      1.00      1.00        72\n",
      "          2       1.00      1.00      1.00        72\n",
      "          3       0.99      1.00      0.99        72\n",
      "          4       1.00      1.00      1.00        79\n",
      "          5       0.99      0.99      0.99        76\n",
      "          6       1.00      1.00      1.00        67\n",
      "          7       0.97      1.00      0.99        72\n",
      "          8       1.00      0.97      0.98        61\n",
      "          9       0.99      0.97      0.98        73\n",
      "\n",
      "avg / total       0.99      0.99      0.99       719\n",
      "\n"
     ]
    }
   ],
   "source": [
    "print(metrics.classification_report(q_test,pred2)) "
   ]
  },
  {
   "cell_type": "code",
   "execution_count": 10,
   "metadata": {},
   "outputs": [
    {
     "data": {
      "text/plain": [
       "SVC(C=1.0, cache_size=200, class_weight=None, coef0=0.0,\n",
       "  decision_function_shape='ovr', degree=3, gamma='auto', kernel='rbf',\n",
       "  max_iter=-1, probability=False, random_state=None, shrinking=True,\n",
       "  tol=0.001, verbose=False)"
      ]
     },
     "execution_count": 10,
     "metadata": {},
     "output_type": "execute_result"
    }
   ],
   "source": [
    "m3=SVC()\n",
    "m3.fit(p_train,q_train)"
   ]
  },
  {
   "cell_type": "code",
   "execution_count": 11,
   "metadata": {},
   "outputs": [
    {
     "data": {
      "text/plain": [
       "0.3560500695410292"
      ]
     },
     "execution_count": 11,
     "metadata": {},
     "output_type": "execute_result"
    }
   ],
   "source": [
    "pred3=m3.predict(p_test)\n",
    "metrics.accuracy_score(q_test,pred3)"
   ]
  },
  {
   "cell_type": "code",
   "execution_count": 12,
   "metadata": {},
   "outputs": [
    {
     "name": "stdout",
     "output_type": "stream",
     "text": [
      "[[30  0  0  0  0  0  0  0 45  0]\n",
      " [ 0 25  0  0  0  0  0  0 47  0]\n",
      " [ 0  0 11  0  0  0  0  0 61  0]\n",
      " [ 0  0  0 35  0  0  0  0 37  0]\n",
      " [ 0  0  0  0 11  0  0  0 68  0]\n",
      " [ 0  0  0  0  0  9  0  0 67  0]\n",
      " [ 0  0  0  0  0  0 45  0 22  0]\n",
      " [ 0  0  0  0  0  0  0 19 53  0]\n",
      " [ 0  0  0  0  0  0  0  0 61  0]\n",
      " [ 0  0  0  0  0  0  0  0 63 10]]\n"
     ]
    }
   ],
   "source": [
    "print(metrics.confusion_matrix(q_test,pred3))  "
   ]
  },
  {
   "cell_type": "code",
   "execution_count": 14,
   "metadata": {},
   "outputs": [
    {
     "name": "stdout",
     "output_type": "stream",
     "text": [
      "             precision    recall  f1-score   support\n",
      "\n",
      "          0       1.00      0.40      0.57        75\n",
      "          1       1.00      0.35      0.52        72\n",
      "          2       1.00      0.15      0.27        72\n",
      "          3       1.00      0.49      0.65        72\n",
      "          4       1.00      0.14      0.24        79\n",
      "          5       1.00      0.12      0.21        76\n",
      "          6       1.00      0.67      0.80        67\n",
      "          7       1.00      0.26      0.42        72\n",
      "          8       0.12      1.00      0.21        61\n",
      "          9       1.00      0.14      0.24        73\n",
      "\n",
      "avg / total       0.93      0.36      0.41       719\n",
      "\n"
     ]
    }
   ],
   "source": [
    "print(metrics.classification_report(q_test,pred3))"
   ]
  },
  {
   "cell_type": "code",
   "execution_count": 15,
   "metadata": {},
   "outputs": [
    {
     "data": {
      "text/plain": [
       "SVC(C=1.0, cache_size=200, class_weight=None, coef0=0.0,\n",
       "  decision_function_shape='ovr', degree=3, gamma='auto', kernel='sigmoid',\n",
       "  max_iter=-1, probability=False, random_state=None, shrinking=True,\n",
       "  tol=0.001, verbose=False)"
      ]
     },
     "execution_count": 15,
     "metadata": {},
     "output_type": "execute_result"
    }
   ],
   "source": [
    "m4=SVC(kernel=\"sigmoid\")\n",
    "m4.fit(p_train,q_train)"
   ]
  },
  {
   "cell_type": "code",
   "execution_count": 16,
   "metadata": {},
   "outputs": [
    {
     "data": {
      "text/plain": [
       "9.318497913769123"
      ]
     },
     "execution_count": 16,
     "metadata": {},
     "output_type": "execute_result"
    }
   ],
   "source": [
    "pred4=m4.predict(p_test)\n",
    "metrics.accuracy_score(q_test,pred4)*100"
   ]
  },
  {
   "cell_type": "code",
   "execution_count": 17,
   "metadata": {},
   "outputs": [
    {
     "name": "stdout",
     "output_type": "stream",
     "text": [
      "[[30  0  0  0  0  0  0  0 45  0]\n",
      " [ 0 25  0  0  0  0  0  0 47  0]\n",
      " [ 0  0 11  0  0  0  0  0 61  0]\n",
      " [ 0  0  0 35  0  0  0  0 37  0]\n",
      " [ 0  0  0  0 11  0  0  0 68  0]\n",
      " [ 0  0  0  0  0  9  0  0 67  0]\n",
      " [ 0  0  0  0  0  0 45  0 22  0]\n",
      " [ 0  0  0  0  0  0  0 19 53  0]\n",
      " [ 0  0  0  0  0  0  0  0 61  0]\n",
      " [ 0  0  0  0  0  0  0  0 63 10]]\n"
     ]
    }
   ],
   "source": [
    "print(metrics.confusion_matrix(q_test,pred3)) "
   ]
  },
  {
   "cell_type": "code",
   "execution_count": 18,
   "metadata": {},
   "outputs": [
    {
     "name": "stdout",
     "output_type": "stream",
     "text": [
      "             precision    recall  f1-score   support\n",
      "\n",
      "          0       0.00      0.00      0.00        75\n",
      "          1       0.00      0.00      0.00        72\n",
      "          2       0.00      0.00      0.00        72\n",
      "          3       0.00      0.00      0.00        72\n",
      "          4       0.00      0.00      0.00        79\n",
      "          5       0.00      0.00      0.00        76\n",
      "          6       0.09      1.00      0.17        67\n",
      "          7       0.00      0.00      0.00        72\n",
      "          8       0.00      0.00      0.00        61\n",
      "          9       0.00      0.00      0.00        73\n",
      "\n",
      "avg / total       0.01      0.09      0.02       719\n",
      "\n"
     ]
    },
    {
     "name": "stderr",
     "output_type": "stream",
     "text": [
      "C:\\Users\\hp\\Anaconda3\\lib\\site-packages\\sklearn\\metrics\\classification.py:1135: UndefinedMetricWarning: Precision and F-score are ill-defined and being set to 0.0 in labels with no predicted samples.\n",
      "  'precision', 'predicted', average, warn_for)\n"
     ]
    }
   ],
   "source": [
    "print(metrics.classification_report(q_test,pred4)) "
   ]
  },
  {
   "cell_type": "code",
   "execution_count": null,
   "metadata": {},
   "outputs": [],
   "source": []
  }
 ],
 "metadata": {
  "kernelspec": {
   "display_name": "Python 3",
   "language": "python",
   "name": "python3"
  },
  "language_info": {
   "codemirror_mode": {
    "name": "ipython",
    "version": 3
   },
   "file_extension": ".py",
   "mimetype": "text/x-python",
   "name": "python",
   "nbconvert_exporter": "python",
   "pygments_lexer": "ipython3",
   "version": "3.6.5"
  }
 },
 "nbformat": 4,
 "nbformat_minor": 2
}
